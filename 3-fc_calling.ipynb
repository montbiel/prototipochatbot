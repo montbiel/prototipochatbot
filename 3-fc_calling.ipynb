{
 "cells": [
  {
   "cell_type": "code",
   "execution_count": 36,
   "id": "2e8625ef",
   "metadata": {},
   "outputs": [],
   "source": [
    "import json\n",
    "import openai\n"
   ]
  },
  {
   "cell_type": "code",
   "execution_count": 37,
   "id": "5e17e761",
   "metadata": {},
   "outputs": [],
   "source": [
    "client = openai.Client()"
   ]
  },
  {
   "cell_type": "code",
   "execution_count": 38,
   "id": "0718e80a",
   "metadata": {},
   "outputs": [],
   "source": [
    "def saudacao_por_periodo (hora):\n",
    "    if 5 <= hora < 12:\n",
    "        return json.dumps({\"saudacao\": \"bom dia\"})\n",
    "    elif 12 <= hora < 18:\n",
    "        return json.dumps({\"saudacao\": \"boa tarde\"})\n",
    "    elif 18 <= hora < 22:\n",
    "        return json.dumps({\"saudacao\": \"boa noite\"})\n",
    "    else:\n",
    "        return json.dumps({\"saudacao\": \"boa madrugada\"})"
   ]
  },
  {
   "cell_type": "code",
   "execution_count": 39,
   "id": "8cc3c42c",
   "metadata": {},
   "outputs": [],
   "source": [
    "tools = [\n",
    "    {\n",
    "        \"type\": \"function\",\n",
    "        \"function\": {\n",
    "            \"name\": \"saudacao_por_periodo\",\n",
    "            \"description\": \"retorna uma saudação baseada na hora do dia\",\n",
    "            \"parameters\": {\n",
    "                \"type\": \"object\",\n",
    "                \"properties\":{\n",
    "                    \"hora\":{\n",
    "                        \"type\": \"integer\",\n",
    "                        \"description\": \"A hora do dia no formato de 24H\"},\n",
    "                    },\n",
    "                    \"required\":[\"hora\"]\n",
    "                \n",
    "            }\n",
    "        }\n",
    "    }\n",
    "]"
   ]
  },
  {
   "cell_type": "code",
   "execution_count": 40,
   "id": "d2c815a6",
   "metadata": {},
   "outputs": [],
   "source": [
    "funcao_disponivel = {\n",
    "    \"saudacao_por_periodo\": saudacao_por_periodo\n",
    "}\n"
   ]
  },
  {
   "cell_type": "code",
   "execution_count": 41,
   "id": "e71b3fd6",
   "metadata": {},
   "outputs": [],
   "source": [
    "mensagens = [\n",
    "    {\"role\": \"user\", \"content\": \"qual saudação o modelo me da se for 10horas?\"}\n",
    "]\n"
   ]
  },
  {
   "cell_type": "code",
   "execution_count": 42,
   "id": "7c1d69f7",
   "metadata": {},
   "outputs": [],
   "source": [
    "resposta = client.chat.completions.create(\n",
    "    model=\"gpt-3.5-turbo-0125\",\n",
    "    messages=mensagens,\n",
    "    tools=tools,\n",
    "    tool_choice=\"auto\",\n",
    "   \n",
    ")"
   ]
  },
  {
   "cell_type": "code",
   "execution_count": 43,
   "id": "42f3bcd1",
   "metadata": {},
   "outputs": [
    {
     "data": {
      "text/plain": [
       "ChatCompletionMessage(content=None, refusal=None, role='assistant', annotations=[], audio=None, function_call=None, tool_calls=[ChatCompletionMessageToolCall(id='call_sfVNJ2wj5CGN6erQkErbt2Hy', function=Function(arguments='{\"hora\":10}', name='saudacao_por_periodo'), type='function')])"
      ]
     },
     "execution_count": 43,
     "metadata": {},
     "output_type": "execute_result"
    }
   ],
   "source": [
    "mensagem_resp = resposta.choices[0].message\n",
    "mensagem_resp"
   ]
  },
  {
   "cell_type": "code",
   "execution_count": 44,
   "id": "e77cfacb",
   "metadata": {},
   "outputs": [
    {
     "data": {
      "text/plain": [
       "[ChatCompletionMessageToolCall(id='call_sfVNJ2wj5CGN6erQkErbt2Hy', function=Function(arguments='{\"hora\":10}', name='saudacao_por_periodo'), type='function')]"
      ]
     },
     "execution_count": 44,
     "metadata": {},
     "output_type": "execute_result"
    }
   ],
   "source": [
    "tool_calls = mensagem_resp.tool_calls\n",
    "tool_calls\n"
   ]
  },
  {
   "cell_type": "code",
   "execution_count": 45,
   "id": "29117aa5",
   "metadata": {},
   "outputs": [],
   "source": [
    "if tool_calls:\n",
    "    mensagens.append(mensagem_resp)\n",
    "    for tool_call in tool_calls:\n",
    "        function_name = tool_call.function.name\n",
    "        function_to_call = funcao_disponivel[function_name]\n",
    "        function_args = json.loads(tool_call.function.arguments)\n",
    "        function_response = function_to_call(\n",
    "            hora = function_args.get(\"hora\")\n",
    "        )\n",
    "        mensagens.append({\n",
    "            \"tool_call_id\": tool_call.id,\n",
    "            \"role\": \"tool\",\n",
    "            \"name\": function_name,\n",
    "            \"content\": function_response\n",
    "        })\n",
    "    segunda_resposta = client.chat.completions.create(\n",
    "        model=\"gpt-3.5-turbo-0125\",\n",
    "        messages=mensagens\n",
    "    )    \n"
   ]
  },
  {
   "cell_type": "code",
   "execution_count": 46,
   "id": "5baaf122",
   "metadata": {},
   "outputs": [
    {
     "data": {
      "text/plain": [
       "ChatCompletionMessage(content='A saudação é \"bom dia\".', refusal=None, role='assistant', annotations=[], audio=None, function_call=None, tool_calls=None)"
      ]
     },
     "execution_count": 46,
     "metadata": {},
     "output_type": "execute_result"
    }
   ],
   "source": [
    "mensagem_resposta = segunda_resposta.choices[0].message\n",
    "mensagem_resposta"
   ]
  }
 ],
 "metadata": {
  "kernelspec": {
   "display_name": ".venv",
   "language": "python",
   "name": "python3"
  },
  "language_info": {
   "codemirror_mode": {
    "name": "ipython",
    "version": 3
   },
   "file_extension": ".py",
   "mimetype": "text/x-python",
   "name": "python",
   "nbconvert_exporter": "python",
   "pygments_lexer": "ipython3",
   "version": "3.13.3"
  }
 },
 "nbformat": 4,
 "nbformat_minor": 5
}
