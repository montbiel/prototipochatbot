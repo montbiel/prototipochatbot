{
 "cells": [
  {
   "cell_type": "code",
   "execution_count": 2,
   "id": "9499ac2c",
   "metadata": {},
   "outputs": [],
   "source": [
    "import openai"
   ]
  },
  {
   "cell_type": "code",
   "execution_count": 3,
   "id": "f03c8cc3",
   "metadata": {},
   "outputs": [],
   "source": [
    "import os\n",
    "from dotenv import load_dotenv\n",
    "\n",
    "# Carrega as variáveis do arquivo .env\n",
    "load_dotenv()\n",
    "\n",
    "# Atribui a chave da API à variável de ambiente\n",
    "api_key = os.getenv(\"OPENAI_API_KEY\")\n",
    "\n",
    "import openai\n",
    "openai.api_key = api_key\n"
   ]
  },
  {
   "cell_type": "code",
   "execution_count": 4,
   "id": "50ade8ac",
   "metadata": {},
   "outputs": [],
   "source": [
    "client = openai.Client()"
   ]
  },
  {
   "cell_type": "code",
   "execution_count": 5,
   "id": "4cf4c679",
   "metadata": {},
   "outputs": [],
   "source": [
    "mensagens = [{\"role\":\"user\" , \"content\" :\"Defina uma laranja em 5 palavras\"}]"
   ]
  },
  {
   "cell_type": "code",
   "execution_count": 7,
   "id": "208b6002",
   "metadata": {},
   "outputs": [],
   "source": [
    "resposta = client.chat.completions.create(\n",
    "    messages=mensagens,\n",
    "    model=\"gpt-3.5-turbo-0125\",\n",
    "    max_tokens=1000,\n",
    "    temperature=0\n",
    ")"
   ]
  },
  {
   "cell_type": "code",
   "execution_count": null,
   "id": "0308df3a",
   "metadata": {},
   "outputs": [
    {
     "data": {
      "text/plain": [
       "ChatCompletion(id='chatcmpl-BKZpwK9Q8A86yzlu1UwnX8Nb5o8Zd', choices=[Choice(finish_reason='stop', index=0, logprobs=None, message=ChatCompletionMessage(content='Fruta cítrica suculenta e saborosa.', refusal=None, role='assistant', annotations=[], audio=None, function_call=None, tool_calls=None))], created=1744244016, model='gpt-3.5-turbo-0125', object='chat.completion', service_tier='default', system_fingerprint=None, usage=CompletionUsage(completion_tokens=15, prompt_tokens=18, total_tokens=33, completion_tokens_details=CompletionTokensDetails(accepted_prediction_tokens=0, audio_tokens=0, reasoning_tokens=0, rejected_prediction_tokens=0), prompt_tokens_details=PromptTokensDetails(audio_tokens=0, cached_tokens=0)))"
      ]
     },
     "execution_count": 21,
     "metadata": {},
     "output_type": "execute_result"
    }
   ],
   "source": [
    "resposta"
   ]
  },
  {
   "cell_type": "code",
   "execution_count": null,
   "id": "bc94c7c0",
   "metadata": {},
   "outputs": [
    {
     "data": {
      "text/plain": [
       "'Fruta cítrica suculenta e saborosa.'"
      ]
     },
     "execution_count": 37,
     "metadata": {},
     "output_type": "execute_result"
    }
   ],
   "source": [
    "resposta.choices[0].message.content"
   ]
  },
  {
   "cell_type": "code",
   "execution_count": null,
   "id": "c7d439fe",
   "metadata": {},
   "outputs": [],
   "source": [
    "mensagens.append({\"role\": \"assistant\", \"content\": resposta.choices[0].message.content})"
   ]
  },
  {
   "cell_type": "code",
   "execution_count": null,
   "id": "21940faa",
   "metadata": {},
   "outputs": [],
   "source": [
    "mensagens.append({\"role\" : \"user\" , \"content\" : \"E qual a sua cor?\"})"
   ]
  },
  {
   "cell_type": "code",
   "execution_count": null,
   "id": "223998c8",
   "metadata": {},
   "outputs": [],
   "source": [
    "resposta = client.chat.completions.create(\n",
    "    messages=mensagens,\n",
    "    model=\"gpt-3.5-turbo-0125\",\n",
    "    max_tokens=1000,\n",
    "    temperature=0\n",
    ")"
   ]
  },
  {
   "cell_type": "code",
   "execution_count": null,
   "id": "83a13ec4",
   "metadata": {},
   "outputs": [
    {
     "data": {
      "text/plain": [
       "'Laranja.'"
      ]
     },
     "execution_count": 26,
     "metadata": {},
     "output_type": "execute_result"
    }
   ],
   "source": [
    "resposta.choices[0].message.content"
   ]
  },
  {
   "cell_type": "code",
   "execution_count": null,
   "id": "26147a1a",
   "metadata": {},
   "outputs": [],
   "source": [
    "mensagens.append({\"role\": \"assistant\", \"content\": resposta.choices[0].message.content})"
   ]
  },
  {
   "cell_type": "code",
   "execution_count": null,
   "id": "fcbf750f",
   "metadata": {},
   "outputs": [
    {
     "data": {
      "text/plain": [
       "[{'role': 'user', 'content': 'Defina uma laranja em 5 palavras'},\n",
       " {'role': 'assistant', 'content': 'Fruta cítrica suculenta e saborosa.'},\n",
       " {'role': 'user', 'content': 'E qual a sua cor?'},\n",
       " {'role': 'assistant', 'content': 'Laranja.'}]"
      ]
     },
     "execution_count": 30,
     "metadata": {},
     "output_type": "execute_result"
    }
   ],
   "source": [
    "mensagens"
   ]
  },
  {
   "cell_type": "code",
   "execution_count": null,
   "id": "0df26f52",
   "metadata": {},
   "outputs": [],
   "source": [
    "def geracao_texto(mensagens, model=\"gpt-3.5-turbo-0125\", max_tokens=1000, temperature=0):\n",
    "    resposta= client.chat.completions.create(\n",
    "        messages = mensagens,\n",
    "        model=model,\n",
    "        max_tokens=max_tokens,\n",
    "        temperature=temperature\n",
    "    )\n",
    "    mensagens.append({\"role\": \"assistant\", \"content\": resposta.choices[0].message.content})\n",
    "    return mensagens"
   ]
  },
  {
   "cell_type": "code",
   "execution_count": null,
   "id": "56639745",
   "metadata": {},
   "outputs": [],
   "source": [
    "msg1 = [{\"role\" : \"user\" , \"content\": \"defina o que é api em 5 palavras\"}]\n",
    "mensagens = geracao_texto(msg1)"
   ]
  },
  {
   "cell_type": "code",
   "execution_count": null,
   "id": "a6d90599",
   "metadata": {},
   "outputs": [
    {
     "data": {
      "text/plain": [
       "[{'role': 'user', 'content': 'defina o que é api em 5 palavras'},\n",
       " {'role': 'assistant', 'content': 'Interface de programação de aplicativos.'}]"
      ]
     },
     "execution_count": 46,
     "metadata": {},
     "output_type": "execute_result"
    }
   ],
   "source": [
    "mensagens\n"
   ]
  },
  {
   "cell_type": "code",
   "execution_count": 9,
   "id": "bd6de90f",
   "metadata": {},
   "outputs": [],
   "source": [
    "mensagens= [{\"role\": \"user\" , \"content\": \"conte uma historia curta sobre llms\"}]\n",
    "resposta= client.chat.completions.create(\n",
    "        messages = mensagens,\n",
    "        model=\"gpt-3.5-turbo-0125\",\n",
    "        max_tokens=1000,\n",
    "        temperature=0,\n",
    "        stream=True\n",
    "    )"
   ]
  },
  {
   "cell_type": "code",
   "execution_count": 10,
   "id": "85185fe0",
   "metadata": {},
   "outputs": [
    {
     "data": {
      "text/plain": [
       "<openai.Stream at 0x24a5dc5f380>"
      ]
     },
     "execution_count": 10,
     "metadata": {},
     "output_type": "execute_result"
    }
   ],
   "source": [
    "resposta"
   ]
  },
  {
   "cell_type": "code",
   "execution_count": 12,
   "id": "570fd8d9",
   "metadata": {},
   "outputs": [
    {
     "name": "stdout",
     "output_type": "stream",
     "text": [
      "Era uma vez um grupo de amigos que decidiram se aventurar em uma trilha na floresta. Eles estavam animados para explorar a natureza e se desconectar da correria do dia a dia.\n",
      "\n",
      "Enquanto caminhavam, perceberam que estavam sendo seguidos por uma criatura misteriosa. Curiosos, decidiram investigar e descobriram que se tratava de um LLM, um ser lendário que protegia a floresta.\n",
      "\n",
      "O LLM era uma criatura amigável e gentil, que os guiou pelo caminho mais seguro e mostrou os segredos escondidos na floresta. Os amigos ficaram encantados com a experiência e agradeceram ao LLM por sua ajuda.\n",
      "\n",
      "Desde então, sempre que precisavam de orientação na floresta, os amigos contavam com a ajuda do LLM, que se tornou um grande amigo e protetor da natureza. E assim, juntos, exploraram os mistérios e maravilhas da floresta, criando memórias inesquecíveis."
     ]
    }
   ],
   "source": [
    "for resposta_stream in resposta:\n",
    "    texto = resposta_stream.choices[0].delta.content\n",
    "    if texto:\n",
    "        print(texto, end=\"\")"
   ]
  }
 ],
 "metadata": {
  "kernelspec": {
   "display_name": ".venv",
   "language": "python",
   "name": "python3"
  },
  "language_info": {
   "codemirror_mode": {
    "name": "ipython",
    "version": 3
   },
   "file_extension": ".py",
   "mimetype": "text/x-python",
   "name": "python",
   "nbconvert_exporter": "python",
   "pygments_lexer": "ipython3",
   "version": "3.13.3"
  }
 },
 "nbformat": 4,
 "nbformat_minor": 5
}
